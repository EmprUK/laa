{
 "cells": [
  {
   "cell_type": "code",
   "execution_count": 4,
   "metadata": {},
   "outputs": [],
   "source": [
    "import pandas as pd\n",
    "import numpy as np\n",
    "from sklearn.model_selection import train_test_split\n",
    "from sklearn.preprocessing import StandardScaler,LabelEncoder\n",
    "from sklearn.metrics import confusion_matrix"
   ]
  },
  {
   "cell_type": "code",
   "execution_count": 5,
   "metadata": {},
   "outputs": [
    {
     "data": {
      "text/html": [
       "<div>\n",
       "<style scoped>\n",
       "    .dataframe tbody tr th:only-of-type {\n",
       "        vertical-align: middle;\n",
       "    }\n",
       "\n",
       "    .dataframe tbody tr th {\n",
       "        vertical-align: top;\n",
       "    }\n",
       "\n",
       "    .dataframe thead th {\n",
       "        text-align: right;\n",
       "    }\n",
       "</style>\n",
       "<table border=\"1\" class=\"dataframe\">\n",
       "  <thead>\n",
       "    <tr style=\"text-align: right;\">\n",
       "      <th></th>\n",
       "      <th>RowNumber</th>\n",
       "      <th>CustomerId</th>\n",
       "      <th>Surname</th>\n",
       "      <th>CreditScore</th>\n",
       "      <th>Geography</th>\n",
       "      <th>Gender</th>\n",
       "      <th>Age</th>\n",
       "      <th>Tenure</th>\n",
       "      <th>Balance</th>\n",
       "      <th>NumOfProducts</th>\n",
       "      <th>HasCrCard</th>\n",
       "      <th>IsActiveMember</th>\n",
       "      <th>EstimatedSalary</th>\n",
       "      <th>Exited</th>\n",
       "    </tr>\n",
       "  </thead>\n",
       "  <tbody>\n",
       "    <tr>\n",
       "      <th>0</th>\n",
       "      <td>1</td>\n",
       "      <td>15634602</td>\n",
       "      <td>Hargrave</td>\n",
       "      <td>619</td>\n",
       "      <td>France</td>\n",
       "      <td>Female</td>\n",
       "      <td>42</td>\n",
       "      <td>2</td>\n",
       "      <td>0.00</td>\n",
       "      <td>1</td>\n",
       "      <td>1</td>\n",
       "      <td>1</td>\n",
       "      <td>101348.88</td>\n",
       "      <td>1</td>\n",
       "    </tr>\n",
       "    <tr>\n",
       "      <th>1</th>\n",
       "      <td>2</td>\n",
       "      <td>15647311</td>\n",
       "      <td>Hill</td>\n",
       "      <td>608</td>\n",
       "      <td>Spain</td>\n",
       "      <td>Female</td>\n",
       "      <td>41</td>\n",
       "      <td>1</td>\n",
       "      <td>83807.86</td>\n",
       "      <td>1</td>\n",
       "      <td>0</td>\n",
       "      <td>1</td>\n",
       "      <td>112542.58</td>\n",
       "      <td>0</td>\n",
       "    </tr>\n",
       "    <tr>\n",
       "      <th>2</th>\n",
       "      <td>3</td>\n",
       "      <td>15619304</td>\n",
       "      <td>Onio</td>\n",
       "      <td>502</td>\n",
       "      <td>France</td>\n",
       "      <td>Female</td>\n",
       "      <td>42</td>\n",
       "      <td>8</td>\n",
       "      <td>159660.80</td>\n",
       "      <td>3</td>\n",
       "      <td>1</td>\n",
       "      <td>0</td>\n",
       "      <td>113931.57</td>\n",
       "      <td>1</td>\n",
       "    </tr>\n",
       "    <tr>\n",
       "      <th>3</th>\n",
       "      <td>4</td>\n",
       "      <td>15701354</td>\n",
       "      <td>Boni</td>\n",
       "      <td>699</td>\n",
       "      <td>France</td>\n",
       "      <td>Female</td>\n",
       "      <td>39</td>\n",
       "      <td>1</td>\n",
       "      <td>0.00</td>\n",
       "      <td>2</td>\n",
       "      <td>0</td>\n",
       "      <td>0</td>\n",
       "      <td>93826.63</td>\n",
       "      <td>0</td>\n",
       "    </tr>\n",
       "    <tr>\n",
       "      <th>4</th>\n",
       "      <td>5</td>\n",
       "      <td>15737888</td>\n",
       "      <td>Mitchell</td>\n",
       "      <td>850</td>\n",
       "      <td>Spain</td>\n",
       "      <td>Female</td>\n",
       "      <td>43</td>\n",
       "      <td>2</td>\n",
       "      <td>125510.82</td>\n",
       "      <td>1</td>\n",
       "      <td>1</td>\n",
       "      <td>1</td>\n",
       "      <td>79084.10</td>\n",
       "      <td>0</td>\n",
       "    </tr>\n",
       "  </tbody>\n",
       "</table>\n",
       "</div>"
      ],
      "text/plain": [
       "   RowNumber  CustomerId   Surname  CreditScore Geography  Gender  Age  \\\n",
       "0          1    15634602  Hargrave          619    France  Female   42   \n",
       "1          2    15647311      Hill          608     Spain  Female   41   \n",
       "2          3    15619304      Onio          502    France  Female   42   \n",
       "3          4    15701354      Boni          699    France  Female   39   \n",
       "4          5    15737888  Mitchell          850     Spain  Female   43   \n",
       "\n",
       "   Tenure    Balance  NumOfProducts  HasCrCard  IsActiveMember  \\\n",
       "0       2       0.00              1          1               1   \n",
       "1       1   83807.86              1          0               1   \n",
       "2       8  159660.80              3          1               0   \n",
       "3       1       0.00              2          0               0   \n",
       "4       2  125510.82              1          1               1   \n",
       "\n",
       "   EstimatedSalary  Exited  \n",
       "0        101348.88       1  \n",
       "1        112542.58       0  \n",
       "2        113931.57       1  \n",
       "3         93826.63       0  \n",
       "4         79084.10       0  "
      ]
     },
     "execution_count": 5,
     "metadata": {},
     "output_type": "execute_result"
    }
   ],
   "source": [
    "data = pd.read_csv('Churn_Modelling.csv')\n",
    "data.head()"
   ]
  },
  {
   "cell_type": "code",
   "execution_count": 6,
   "metadata": {},
   "outputs": [],
   "source": [
    "x = data.drop(['RowNumber','CustomerId','Surname','Geography','Gender','Exited'],axis=1)\n",
    "y = data['Exited']"
   ]
  },
  {
   "cell_type": "code",
   "execution_count": 7,
   "metadata": {},
   "outputs": [],
   "source": [
    "x_train,x_test,y_train,y_test = train_test_split(x,y,test_size=0.2,random_state=0)"
   ]
  },
  {
   "cell_type": "code",
   "execution_count": 8,
   "metadata": {},
   "outputs": [],
   "source": [
    "scalar = StandardScaler()\n",
    "\n",
    "x_train = scalar.fit_transform(x_train)\n",
    "x_test = scalar.transform(x_test)"
   ]
  },
  {
   "cell_type": "code",
   "execution_count": 9,
   "metadata": {},
   "outputs": [
    {
     "data": {
      "text/html": [
       "<style>#sk-container-id-1 {color: black;}#sk-container-id-1 pre{padding: 0;}#sk-container-id-1 div.sk-toggleable {background-color: white;}#sk-container-id-1 label.sk-toggleable__label {cursor: pointer;display: block;width: 100%;margin-bottom: 0;padding: 0.3em;box-sizing: border-box;text-align: center;}#sk-container-id-1 label.sk-toggleable__label-arrow:before {content: \"▸\";float: left;margin-right: 0.25em;color: #696969;}#sk-container-id-1 label.sk-toggleable__label-arrow:hover:before {color: black;}#sk-container-id-1 div.sk-estimator:hover label.sk-toggleable__label-arrow:before {color: black;}#sk-container-id-1 div.sk-toggleable__content {max-height: 0;max-width: 0;overflow: hidden;text-align: left;background-color: #f0f8ff;}#sk-container-id-1 div.sk-toggleable__content pre {margin: 0.2em;color: black;border-radius: 0.25em;background-color: #f0f8ff;}#sk-container-id-1 input.sk-toggleable__control:checked~div.sk-toggleable__content {max-height: 200px;max-width: 100%;overflow: auto;}#sk-container-id-1 input.sk-toggleable__control:checked~label.sk-toggleable__label-arrow:before {content: \"▾\";}#sk-container-id-1 div.sk-estimator input.sk-toggleable__control:checked~label.sk-toggleable__label {background-color: #d4ebff;}#sk-container-id-1 div.sk-label input.sk-toggleable__control:checked~label.sk-toggleable__label {background-color: #d4ebff;}#sk-container-id-1 input.sk-hidden--visually {border: 0;clip: rect(1px 1px 1px 1px);clip: rect(1px, 1px, 1px, 1px);height: 1px;margin: -1px;overflow: hidden;padding: 0;position: absolute;width: 1px;}#sk-container-id-1 div.sk-estimator {font-family: monospace;background-color: #f0f8ff;border: 1px dotted black;border-radius: 0.25em;box-sizing: border-box;margin-bottom: 0.5em;}#sk-container-id-1 div.sk-estimator:hover {background-color: #d4ebff;}#sk-container-id-1 div.sk-parallel-item::after {content: \"\";width: 100%;border-bottom: 1px solid gray;flex-grow: 1;}#sk-container-id-1 div.sk-label:hover label.sk-toggleable__label {background-color: #d4ebff;}#sk-container-id-1 div.sk-serial::before {content: \"\";position: absolute;border-left: 1px solid gray;box-sizing: border-box;top: 0;bottom: 0;left: 50%;z-index: 0;}#sk-container-id-1 div.sk-serial {display: flex;flex-direction: column;align-items: center;background-color: white;padding-right: 0.2em;padding-left: 0.2em;position: relative;}#sk-container-id-1 div.sk-item {position: relative;z-index: 1;}#sk-container-id-1 div.sk-parallel {display: flex;align-items: stretch;justify-content: center;background-color: white;position: relative;}#sk-container-id-1 div.sk-item::before, #sk-container-id-1 div.sk-parallel-item::before {content: \"\";position: absolute;border-left: 1px solid gray;box-sizing: border-box;top: 0;bottom: 0;left: 50%;z-index: -1;}#sk-container-id-1 div.sk-parallel-item {display: flex;flex-direction: column;z-index: 1;position: relative;background-color: white;}#sk-container-id-1 div.sk-parallel-item:first-child::after {align-self: flex-end;width: 50%;}#sk-container-id-1 div.sk-parallel-item:last-child::after {align-self: flex-start;width: 50%;}#sk-container-id-1 div.sk-parallel-item:only-child::after {width: 0;}#sk-container-id-1 div.sk-dashed-wrapped {border: 1px dashed gray;margin: 0 0.4em 0.5em 0.4em;box-sizing: border-box;padding-bottom: 0.4em;background-color: white;}#sk-container-id-1 div.sk-label label {font-family: monospace;font-weight: bold;display: inline-block;line-height: 1.2em;}#sk-container-id-1 div.sk-label-container {text-align: center;}#sk-container-id-1 div.sk-container {/* jupyter's `normalize.less` sets `[hidden] { display: none; }` but bootstrap.min.css set `[hidden] { display: none !important; }` so we also need the `!important` here to be able to override the default hidden behavior on the sphinx rendered scikit-learn.org. See: https://github.com/scikit-learn/scikit-learn/issues/21755 */display: inline-block !important;position: relative;}#sk-container-id-1 div.sk-text-repr-fallback {display: none;}</style><div id=\"sk-container-id-1\" class=\"sk-top-container\"><div class=\"sk-text-repr-fallback\"><pre>MLPClassifier(batch_size=32, hidden_layer_sizes=(10, 5), solver=&#x27;sgd&#x27;,\n",
       "              verbose=True)</pre><b>In a Jupyter environment, please rerun this cell to show the HTML representation or trust the notebook. <br />On GitHub, the HTML representation is unable to render, please try loading this page with nbviewer.org.</b></div><div class=\"sk-container\" hidden><div class=\"sk-item\"><div class=\"sk-estimator sk-toggleable\"><input class=\"sk-toggleable__control sk-hidden--visually\" id=\"sk-estimator-id-1\" type=\"checkbox\" checked><label for=\"sk-estimator-id-1\" class=\"sk-toggleable__label sk-toggleable__label-arrow\">MLPClassifier</label><div class=\"sk-toggleable__content\"><pre>MLPClassifier(batch_size=32, hidden_layer_sizes=(10, 5), solver=&#x27;sgd&#x27;,\n",
       "              verbose=True)</pre></div></div></div></div></div>"
      ],
      "text/plain": [
       "MLPClassifier(batch_size=32, hidden_layer_sizes=(10, 5), solver='sgd',\n",
       "              verbose=True)"
      ]
     },
     "execution_count": 9,
     "metadata": {},
     "output_type": "execute_result"
    }
   ],
   "source": [
    "#MLP Classifier\n",
    "\n",
    "from sklearn.neural_network import MLPClassifier\n",
    "\n",
    "uk_mlp = MLPClassifier(hidden_layer_sizes=(10,5),\n",
    "                    solver='sgd',\n",
    "                    activation='relu',\n",
    "                    batch_size=32,\n",
    "                    verbose=True)\n",
    "\n",
    "uk_mlp"
   ]
  },
  {
   "cell_type": "code",
   "execution_count": 10,
   "metadata": {},
   "outputs": [
    {
     "name": "stdout",
     "output_type": "stream",
     "text": [
      "Iteration 1, loss = 0.62323011\n",
      "Iteration 2, loss = 0.53903829\n",
      "Iteration 3, loss = 0.50933575\n",
      "Iteration 4, loss = 0.49472359\n",
      "Iteration 5, loss = 0.48557904\n",
      "Iteration 6, loss = 0.47860059\n",
      "Iteration 7, loss = 0.47274019\n",
      "Iteration 8, loss = 0.46772452\n",
      "Iteration 9, loss = 0.46335418\n",
      "Iteration 10, loss = 0.45942992\n",
      "Iteration 11, loss = 0.45596183\n",
      "Iteration 12, loss = 0.45301057\n",
      "Iteration 13, loss = 0.45045387\n",
      "Iteration 14, loss = 0.44838862\n",
      "Iteration 15, loss = 0.44657371\n",
      "Iteration 16, loss = 0.44503192\n",
      "Iteration 17, loss = 0.44371246\n",
      "Iteration 18, loss = 0.44252714\n",
      "Iteration 19, loss = 0.44146289\n",
      "Iteration 20, loss = 0.44045781\n",
      "Iteration 21, loss = 0.43954438\n",
      "Iteration 22, loss = 0.43863307\n",
      "Iteration 23, loss = 0.43779039\n",
      "Iteration 24, loss = 0.43696286\n",
      "Iteration 25, loss = 0.43613431\n",
      "Iteration 26, loss = 0.43532139\n",
      "Iteration 27, loss = 0.43443290\n",
      "Iteration 28, loss = 0.43353809\n",
      "Iteration 29, loss = 0.43258531\n",
      "Iteration 30, loss = 0.43150546\n",
      "Iteration 31, loss = 0.43033157\n",
      "Iteration 32, loss = 0.42920195\n",
      "Iteration 33, loss = 0.42780733\n",
      "Iteration 34, loss = 0.42624447\n",
      "Iteration 35, loss = 0.42458667\n",
      "Iteration 36, loss = 0.42264686\n",
      "Iteration 37, loss = 0.42069587\n",
      "Iteration 38, loss = 0.41855861\n",
      "Iteration 39, loss = 0.41636137\n",
      "Iteration 40, loss = 0.41420214\n",
      "Iteration 41, loss = 0.41190217\n",
      "Iteration 42, loss = 0.40965721\n",
      "Iteration 43, loss = 0.40725924\n",
      "Iteration 44, loss = 0.40473407\n",
      "Iteration 45, loss = 0.40202876\n",
      "Iteration 46, loss = 0.39951756\n",
      "Iteration 47, loss = 0.39680591\n",
      "Iteration 48, loss = 0.39431019\n",
      "Iteration 49, loss = 0.39179386\n",
      "Iteration 50, loss = 0.38928814\n",
      "Iteration 51, loss = 0.38700440\n",
      "Iteration 52, loss = 0.38472167\n",
      "Iteration 53, loss = 0.38268803\n",
      "Iteration 54, loss = 0.38071901\n",
      "Iteration 55, loss = 0.37878190\n",
      "Iteration 56, loss = 0.37690230\n",
      "Iteration 57, loss = 0.37533199\n",
      "Iteration 58, loss = 0.37375059\n",
      "Iteration 59, loss = 0.37225033\n",
      "Iteration 60, loss = 0.37087851\n",
      "Iteration 61, loss = 0.36934754\n",
      "Iteration 62, loss = 0.36803644\n",
      "Iteration 63, loss = 0.36680933\n",
      "Iteration 64, loss = 0.36557427\n",
      "Iteration 65, loss = 0.36463929\n",
      "Iteration 66, loss = 0.36368924\n",
      "Iteration 67, loss = 0.36301678\n",
      "Iteration 68, loss = 0.36241791\n",
      "Iteration 69, loss = 0.36193593\n",
      "Iteration 70, loss = 0.36141428\n",
      "Iteration 71, loss = 0.36107822\n",
      "Iteration 72, loss = 0.36068737\n",
      "Iteration 73, loss = 0.36040860\n",
      "Iteration 74, loss = 0.36004260\n",
      "Iteration 75, loss = 0.35960836\n",
      "Iteration 76, loss = 0.35922314\n",
      "Iteration 77, loss = 0.35913087\n",
      "Iteration 78, loss = 0.35899216\n",
      "Iteration 79, loss = 0.35851006\n",
      "Iteration 80, loss = 0.35823685\n",
      "Iteration 81, loss = 0.35784025\n",
      "Iteration 82, loss = 0.35753039\n",
      "Iteration 83, loss = 0.35742157\n",
      "Iteration 84, loss = 0.35716668\n",
      "Iteration 85, loss = 0.35690181\n",
      "Iteration 86, loss = 0.35685386\n",
      "Iteration 87, loss = 0.35649259\n",
      "Iteration 88, loss = 0.35653991\n",
      "Iteration 89, loss = 0.35617487\n",
      "Iteration 90, loss = 0.35564089\n",
      "Iteration 91, loss = 0.35532997\n",
      "Iteration 92, loss = 0.35518373\n",
      "Iteration 93, loss = 0.35487548\n",
      "Iteration 94, loss = 0.35468707\n",
      "Iteration 95, loss = 0.35451247\n",
      "Iteration 96, loss = 0.35398114\n",
      "Iteration 97, loss = 0.35366792\n",
      "Iteration 98, loss = 0.35343371\n",
      "Iteration 99, loss = 0.35323618\n",
      "Iteration 100, loss = 0.35310108\n",
      "Iteration 101, loss = 0.35281721\n",
      "Iteration 102, loss = 0.35275296\n",
      "Iteration 103, loss = 0.35242052\n",
      "Iteration 104, loss = 0.35232356\n",
      "Iteration 105, loss = 0.35207686\n",
      "Iteration 106, loss = 0.35239685\n",
      "Iteration 107, loss = 0.35211599\n",
      "Iteration 108, loss = 0.35181705\n",
      "Iteration 109, loss = 0.35155418\n",
      "Iteration 110, loss = 0.35147852\n",
      "Iteration 111, loss = 0.35143384\n",
      "Iteration 112, loss = 0.35121768\n",
      "Iteration 113, loss = 0.35116717\n",
      "Iteration 114, loss = 0.35120532\n",
      "Iteration 115, loss = 0.35129893\n",
      "Iteration 116, loss = 0.35089960\n",
      "Iteration 117, loss = 0.35096796\n",
      "Iteration 118, loss = 0.35105709\n",
      "Iteration 119, loss = 0.35069817\n",
      "Iteration 120, loss = 0.35053195\n",
      "Iteration 121, loss = 0.35089439\n",
      "Iteration 122, loss = 0.35065019\n",
      "Iteration 123, loss = 0.35038029\n",
      "Iteration 124, loss = 0.35060365\n",
      "Iteration 125, loss = 0.35034482\n",
      "Iteration 126, loss = 0.35021991\n",
      "Iteration 127, loss = 0.35007781\n",
      "Iteration 128, loss = 0.35023060\n",
      "Iteration 129, loss = 0.35012103\n",
      "Iteration 130, loss = 0.34994129\n",
      "Iteration 131, loss = 0.35014847\n",
      "Iteration 132, loss = 0.35010840\n",
      "Iteration 133, loss = 0.34998903\n",
      "Iteration 134, loss = 0.35019981\n",
      "Iteration 135, loss = 0.34985639\n",
      "Iteration 136, loss = 0.34983455\n",
      "Iteration 137, loss = 0.34981920\n",
      "Iteration 138, loss = 0.34971055\n",
      "Iteration 139, loss = 0.34964660\n",
      "Iteration 140, loss = 0.34957642\n",
      "Iteration 141, loss = 0.34965040\n",
      "Iteration 142, loss = 0.34977849\n",
      "Iteration 143, loss = 0.34975308\n",
      "Iteration 144, loss = 0.34947436\n",
      "Iteration 145, loss = 0.34947370\n",
      "Iteration 146, loss = 0.34930653\n",
      "Iteration 147, loss = 0.34932553\n",
      "Iteration 148, loss = 0.34941513\n",
      "Iteration 149, loss = 0.34918186\n",
      "Iteration 150, loss = 0.34941126\n",
      "Iteration 151, loss = 0.34909892\n",
      "Iteration 152, loss = 0.34930392\n",
      "Iteration 153, loss = 0.34917553\n",
      "Iteration 154, loss = 0.34891970\n",
      "Iteration 155, loss = 0.34916513\n",
      "Iteration 156, loss = 0.34911640\n",
      "Iteration 157, loss = 0.34876094\n",
      "Iteration 158, loss = 0.34890058\n",
      "Iteration 159, loss = 0.34905719\n",
      "Iteration 160, loss = 0.34902368\n",
      "Iteration 161, loss = 0.34877342\n",
      "Iteration 162, loss = 0.34870732\n",
      "Iteration 163, loss = 0.34869118\n",
      "Iteration 164, loss = 0.34878999\n",
      "Iteration 165, loss = 0.34841210\n",
      "Iteration 166, loss = 0.34832593\n",
      "Iteration 167, loss = 0.34858023\n",
      "Iteration 168, loss = 0.34833122\n",
      "Iteration 169, loss = 0.34858385\n",
      "Iteration 170, loss = 0.34786612\n",
      "Iteration 171, loss = 0.34838694\n",
      "Iteration 172, loss = 0.34821534\n",
      "Iteration 173, loss = 0.34810560\n",
      "Iteration 174, loss = 0.34821500\n",
      "Iteration 175, loss = 0.34810357\n",
      "Iteration 176, loss = 0.34816556\n",
      "Iteration 177, loss = 0.34806752\n",
      "Iteration 178, loss = 0.34801253\n",
      "Iteration 179, loss = 0.34817362\n",
      "Iteration 180, loss = 0.34753933\n",
      "Iteration 181, loss = 0.34816364\n",
      "Iteration 182, loss = 0.34783904\n",
      "Iteration 183, loss = 0.34777388\n",
      "Iteration 184, loss = 0.34782027\n",
      "Iteration 185, loss = 0.34803189\n",
      "Iteration 186, loss = 0.34777460\n",
      "Iteration 187, loss = 0.34793838\n",
      "Iteration 188, loss = 0.34760737\n",
      "Iteration 189, loss = 0.34767653\n",
      "Iteration 190, loss = 0.34743049\n",
      "Iteration 191, loss = 0.34775883\n",
      "Iteration 192, loss = 0.34742059\n",
      "Iteration 193, loss = 0.34750813\n",
      "Iteration 194, loss = 0.34753672\n",
      "Iteration 195, loss = 0.34749077\n",
      "Iteration 196, loss = 0.34743324\n",
      "Iteration 197, loss = 0.34758090\n",
      "Iteration 198, loss = 0.34725889\n",
      "Iteration 199, loss = 0.34716671\n",
      "Iteration 200, loss = 0.34738013\n"
     ]
    },
    {
     "name": "stderr",
     "output_type": "stream",
     "text": [
      "c:\\Users\\hp\\anaconda3\\envs\\ML_Lab1\\lib\\site-packages\\sklearn\\neural_network\\_multilayer_perceptron.py:691: ConvergenceWarning: Stochastic Optimizer: Maximum iterations (200) reached and the optimization hasn't converged yet.\n",
      "  warnings.warn(\n"
     ]
    },
    {
     "data": {
      "text/html": [
       "<style>#sk-container-id-2 {color: black;}#sk-container-id-2 pre{padding: 0;}#sk-container-id-2 div.sk-toggleable {background-color: white;}#sk-container-id-2 label.sk-toggleable__label {cursor: pointer;display: block;width: 100%;margin-bottom: 0;padding: 0.3em;box-sizing: border-box;text-align: center;}#sk-container-id-2 label.sk-toggleable__label-arrow:before {content: \"▸\";float: left;margin-right: 0.25em;color: #696969;}#sk-container-id-2 label.sk-toggleable__label-arrow:hover:before {color: black;}#sk-container-id-2 div.sk-estimator:hover label.sk-toggleable__label-arrow:before {color: black;}#sk-container-id-2 div.sk-toggleable__content {max-height: 0;max-width: 0;overflow: hidden;text-align: left;background-color: #f0f8ff;}#sk-container-id-2 div.sk-toggleable__content pre {margin: 0.2em;color: black;border-radius: 0.25em;background-color: #f0f8ff;}#sk-container-id-2 input.sk-toggleable__control:checked~div.sk-toggleable__content {max-height: 200px;max-width: 100%;overflow: auto;}#sk-container-id-2 input.sk-toggleable__control:checked~label.sk-toggleable__label-arrow:before {content: \"▾\";}#sk-container-id-2 div.sk-estimator input.sk-toggleable__control:checked~label.sk-toggleable__label {background-color: #d4ebff;}#sk-container-id-2 div.sk-label input.sk-toggleable__control:checked~label.sk-toggleable__label {background-color: #d4ebff;}#sk-container-id-2 input.sk-hidden--visually {border: 0;clip: rect(1px 1px 1px 1px);clip: rect(1px, 1px, 1px, 1px);height: 1px;margin: -1px;overflow: hidden;padding: 0;position: absolute;width: 1px;}#sk-container-id-2 div.sk-estimator {font-family: monospace;background-color: #f0f8ff;border: 1px dotted black;border-radius: 0.25em;box-sizing: border-box;margin-bottom: 0.5em;}#sk-container-id-2 div.sk-estimator:hover {background-color: #d4ebff;}#sk-container-id-2 div.sk-parallel-item::after {content: \"\";width: 100%;border-bottom: 1px solid gray;flex-grow: 1;}#sk-container-id-2 div.sk-label:hover label.sk-toggleable__label {background-color: #d4ebff;}#sk-container-id-2 div.sk-serial::before {content: \"\";position: absolute;border-left: 1px solid gray;box-sizing: border-box;top: 0;bottom: 0;left: 50%;z-index: 0;}#sk-container-id-2 div.sk-serial {display: flex;flex-direction: column;align-items: center;background-color: white;padding-right: 0.2em;padding-left: 0.2em;position: relative;}#sk-container-id-2 div.sk-item {position: relative;z-index: 1;}#sk-container-id-2 div.sk-parallel {display: flex;align-items: stretch;justify-content: center;background-color: white;position: relative;}#sk-container-id-2 div.sk-item::before, #sk-container-id-2 div.sk-parallel-item::before {content: \"\";position: absolute;border-left: 1px solid gray;box-sizing: border-box;top: 0;bottom: 0;left: 50%;z-index: -1;}#sk-container-id-2 div.sk-parallel-item {display: flex;flex-direction: column;z-index: 1;position: relative;background-color: white;}#sk-container-id-2 div.sk-parallel-item:first-child::after {align-self: flex-end;width: 50%;}#sk-container-id-2 div.sk-parallel-item:last-child::after {align-self: flex-start;width: 50%;}#sk-container-id-2 div.sk-parallel-item:only-child::after {width: 0;}#sk-container-id-2 div.sk-dashed-wrapped {border: 1px dashed gray;margin: 0 0.4em 0.5em 0.4em;box-sizing: border-box;padding-bottom: 0.4em;background-color: white;}#sk-container-id-2 div.sk-label label {font-family: monospace;font-weight: bold;display: inline-block;line-height: 1.2em;}#sk-container-id-2 div.sk-label-container {text-align: center;}#sk-container-id-2 div.sk-container {/* jupyter's `normalize.less` sets `[hidden] { display: none; }` but bootstrap.min.css set `[hidden] { display: none !important; }` so we also need the `!important` here to be able to override the default hidden behavior on the sphinx rendered scikit-learn.org. See: https://github.com/scikit-learn/scikit-learn/issues/21755 */display: inline-block !important;position: relative;}#sk-container-id-2 div.sk-text-repr-fallback {display: none;}</style><div id=\"sk-container-id-2\" class=\"sk-top-container\"><div class=\"sk-text-repr-fallback\"><pre>MLPClassifier(batch_size=32, hidden_layer_sizes=(10, 5), solver=&#x27;sgd&#x27;,\n",
       "              verbose=True)</pre><b>In a Jupyter environment, please rerun this cell to show the HTML representation or trust the notebook. <br />On GitHub, the HTML representation is unable to render, please try loading this page with nbviewer.org.</b></div><div class=\"sk-container\" hidden><div class=\"sk-item\"><div class=\"sk-estimator sk-toggleable\"><input class=\"sk-toggleable__control sk-hidden--visually\" id=\"sk-estimator-id-2\" type=\"checkbox\" checked><label for=\"sk-estimator-id-2\" class=\"sk-toggleable__label sk-toggleable__label-arrow\">MLPClassifier</label><div class=\"sk-toggleable__content\"><pre>MLPClassifier(batch_size=32, hidden_layer_sizes=(10, 5), solver=&#x27;sgd&#x27;,\n",
       "              verbose=True)</pre></div></div></div></div></div>"
      ],
      "text/plain": [
       "MLPClassifier(batch_size=32, hidden_layer_sizes=(10, 5), solver='sgd',\n",
       "              verbose=True)"
      ]
     },
     "execution_count": 10,
     "metadata": {},
     "output_type": "execute_result"
    }
   ],
   "source": [
    "uk_mlp.fit(x_train,y_train)"
   ]
  },
  {
   "cell_type": "code",
   "execution_count": 11,
   "metadata": {},
   "outputs": [
    {
     "name": "stdout",
     "output_type": "stream",
     "text": [
      "Training: 0.858125\n"
     ]
    }
   ],
   "source": [
    "print(\"Training:\",uk_mlp.score(x_train,y_train))\n"
   ]
  },
  {
   "cell_type": "code",
   "execution_count": 12,
   "metadata": {},
   "outputs": [
    {
     "name": "stdout",
     "output_type": "stream",
     "text": [
      "Testing: 0.8615\n"
     ]
    }
   ],
   "source": [
    "#print(x_test.shape,y_test.shape)\n",
    "print(\"Testing:\",uk_mlp.score(x_test,y_test))\n"
   ]
  },
  {
   "cell_type": "code",
   "execution_count": 13,
   "metadata": {},
   "outputs": [],
   "source": [
    "y_pred = uk_mlp.predict(x_test)"
   ]
  },
  {
   "cell_type": "code",
   "execution_count": 15,
   "metadata": {},
   "outputs": [
    {
     "name": "stdout",
     "output_type": "stream",
     "text": [
      "Accuracy: 0.8615\n",
      "F1-Score: 0.5809379727685325\n",
      "Precision: 0.75\n",
      "Recall: 0.4740740740740741\n",
      "[[1531   64]\n",
      " [ 213  192]]\n"
     ]
    }
   ],
   "source": [
    "#Meeeeeetrics\n",
    "\n",
    "y_pred = uk_mlp.predict(x_test)\n",
    "\n",
    "from sklearn.metrics import accuracy_score,f1_score,confusion_matrix,precision_score,recall_score,roc_curve\n",
    "\n",
    "acc = accuracy_score(y_test,y_pred)\n",
    "print(\"Accuracy:\",acc)\n",
    "\n",
    "f1 = f1_score(y_test,y_pred)\n",
    "print(\"F1-Score:\",f1)\n",
    "\n",
    "prec = precision_score(y_test,y_pred)\n",
    "print(\"Precision:\",prec)\n",
    "\n",
    "recall = recall_score(y_test,y_pred)\n",
    "print(\"Recall:\",recall)\n",
    "\n",
    "\n",
    "con = confusion_matrix(y_test,y_pred)\n",
    "print(con)"
   ]
  },
  {
   "cell_type": "code",
   "execution_count": 17,
   "metadata": {},
   "outputs": [
    {
     "data": {
      "text/plain": [
       "Text(0, 0.5, 'Loss')"
      ]
     },
     "execution_count": 17,
     "metadata": {},
     "output_type": "execute_result"
    },
    {
     "data": {
      "image/png": "[encoded data removed]",
      "text/plain": [
       "<Figure size 640x480 with 1 Axes>"
      ]
     },
     "metadata": {},
     "output_type": "display_data"
    }
   ],
   "source": [
    "from matplotlib import pyplot as plt\n",
    "\n",
    "l = uk_mlp.loss_curve_\n",
    "\n",
    "plt.plot(l)\n",
    "plt.xlabel('Epochs')\n",
    "plt.ylabel('Loss')"
   ]
  }
 ],
 "metadata": {
  "kernelspec": {
   "display_name": "ML_Lab1",
   "language": "python",
   "name": "python3"
  },
  "language_info": {
   "codemirror_mode": {
    "name": "ipython",
    "version": 3
   },
   "file_extension": ".py",
   "mimetype": "text/x-python",
   "name": "python",
   "nbconvert_exporter": "python",
   "pygments_lexer": "ipython3",
   "version": "3.10.13"
  }
 },
 "nbformat": 4,
 "nbformat_minor": 2
}
